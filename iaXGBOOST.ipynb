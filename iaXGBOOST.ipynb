{
 "cells": [
  {
   "cell_type": "code",
   "execution_count": 27,
   "id": "8ff1ffab",
   "metadata": {},
   "outputs": [
    {
     "name": "stderr",
     "output_type": "stream",
     "text": [
      "C:\\Users\\thelo\\AppData\\Local\\Temp\\ipykernel_1136\\568968466.py:3: DtypeWarning: Columns (3,4,6,7) have mixed types. Specify dtype option on import or set low_memory=False.\n",
      "  df = pd.read_csv(\"all_datasets_aligned.csv\")\n"
     ]
    },
    {
     "name": "stdout",
     "output_type": "stream",
     "text": [
      "    id  val1  val2 val3  val4   val5   val6   val7   val8    flag\n",
      "0  790     5    33  104   9.0   33.0   33.0    0.0  111.0  BENIGN\n",
      "1  399   254    91    0   0.0    0.0   60.0    0.0    0.0  BENIGN\n",
      "2  608    25    33   34  48.0    8.0  142.0  109.0   58.0  BENIGN\n",
      "3  672   100     0  154  29.0  151.0    2.0  189.0    0.0  BENIGN\n",
      "4  809    64   187  127  20.0   17.0   32.0    0.0   20.0  BENIGN\n",
      "flag\n",
      "BENIGN    16189165\n",
      "DoS         662184\n",
      "RPM         654897\n",
      "gear        597252\n",
      "Fuzzy       491846\n",
      "Name: count, dtype: int64\n"
     ]
    }
   ],
   "source": [
    "import pandas as pd\n",
    "\n",
    "df = pd.read_csv(\"all_datasets_aligned.csv\")\n",
    "print(df.head())          # Ver as primeiras linhas\n",
    "print(df['flag'].value_counts())  # Quantos exemplos tem de cada classe\n"
   ]
  },
  {
   "cell_type": "code",
   "execution_count": 28,
   "id": "570c022d",
   "metadata": {},
   "outputs": [
    {
     "name": "stdout",
     "output_type": "stream",
     "text": [
      "flag\n",
      "BENIGN    1000000\n",
      "DoS        662184\n",
      "RPM        654897\n",
      "gear       597252\n",
      "Fuzzy      491846\n",
      "Name: count, dtype: int64\n"
     ]
    }
   ],
   "source": [
    "import pandas as pd\n",
    "\n",
    "# Defina o número de amostras desejado para \"BENIGN\"\n",
    "n_samples_benign = 1000_000  # ou 1_000_000, como preferir\n",
    "\n",
    "# Separe a classe majoritária\n",
    "benign_df = df[df['flag'] == 'BENIGN']\n",
    "\n",
    "# Separe as demais classes (minoritárias)\n",
    "minor_classes_df = df[df['flag'] != 'BENIGN']\n",
    "\n",
    "# Amostragem aleatória da classe BENIGN\n",
    "benign_sampled = benign_df.sample(n=n_samples_benign, random_state=42)\n",
    "\n",
    "# Combine novamente o DataFrame balanceado\n",
    "df_balanced = pd.concat([benign_sampled, minor_classes_df], axis=0)\n",
    "\n",
    "# Embaralhar o DataFrame final\n",
    "df_balanced = df_balanced.sample(frac=1, random_state=42).reset_index(drop=True)\n",
    "\n",
    "# Verificar a nova distribuição\n",
    "print(df_balanced['flag'].value_counts())\n",
    "\n",
    "df = df_balanced\n",
    "#df.to_csv(\"all_datasets_aligned_balanced.csv\", index=False)\n",
    "del df_balanced, benign_df, minor_classes_df, benign_sampled"
   ]
  },
  {
   "cell_type": "code",
   "execution_count": 29,
   "id": "7b91cf52",
   "metadata": {},
   "outputs": [],
   "source": [
    "from sklearn.model_selection import train_test_split\n",
    "from sklearn.preprocessing import LabelEncoder\n",
    "df = df.dropna()\n",
    "\n",
    "# Remove a coluna 'ID'\n",
    "df = df.drop(columns=['id'])\n",
    "\n",
    "\n"
   ]
  },
  {
   "cell_type": "code",
   "execution_count": 30,
   "id": "ff577dd9",
   "metadata": {},
   "outputs": [],
   "source": [
    "from sklearn.model_selection import train_test_split\n",
    "from sklearn.preprocessing import LabelEncoder\n",
    "\n",
    "# Codificar rótulos em números\n",
    "le = LabelEncoder()\n",
    "df['flag'] = le.fit_transform(df['flag'])\n",
    "\n",
    "X = df.drop(columns=['flag'])  # Features\n",
    "y = df['flag']                 # Rótulos\n",
    "\n",
    "X_train, X_test, y_train, y_test = train_test_split(\n",
    "    X, y, test_size=0.2, stratify=y, random_state=42)\n",
    "\n",
    "del df  # Liberar memória"
   ]
  },
  {
   "cell_type": "code",
   "execution_count": null,
   "id": "0d3a7409",
   "metadata": {},
   "outputs": [
    {
     "name": "stdout",
     "output_type": "stream",
     "text": [
      "Fitting 2 folds for each of 48 candidates, totalling 96 fits\n"
     ]
    }
   ],
   "source": [
    "\n",
    "from sklearn.model_selection import GridSearchCV, StratifiedKFold\n",
    "from xgboost import XGBClassifier\n",
    "from sklearn.metrics import classification_report, accuracy_score\n",
    "# 1. Converter colunas para o tipo 'category'\n",
    "for col in ['val3', 'val4', 'val6', 'val7']:\n",
    "    X[col] = X[col].astype('category')\n",
    "\n",
    "xgb = XGBClassifier(random_state=42, use_label_encoder=False, eval_metric='logloss',enable_categorical=True)\n",
    "\n",
    "# -------------------------------------------------------------------------\n",
    "# MUDANÇA: Grade de hiperparâmetros específica para o XGBoost\n",
    "# -------------------------------------------------------------------------\n",
    "param_grid = {\n",
    "    'n_estimators': [100, 200],\n",
    "    'max_depth': [3, 5, 7],\n",
    "    'learning_rate': [0.01, 0.1],\n",
    "    'subsample': [0.8, 1.0],\n",
    "    'colsample_bytree': [0.8, 1.0]\n",
    "}\n",
    "\n",
    "# Validação cruzada estratificada (sem alterações aqui)\n",
    "# OBS: n_splits=2 é baixo, considere usar 5 ou 10 para uma validação mais robusta.\n",
    "cv = StratifiedKFold(n_splits=2, shuffle=True, random_state=42)\n",
    "\n",
    "# -------------------------------------------------------------------------\n",
    "# MUDANÇA: Passar o estimador 'xgb' para o GridSearchCV\n",
    "# -------------------------------------------------------------------------\n",
    "grid_search = GridSearchCV(estimator=xgb, param_grid=param_grid, \n",
    "                           scoring='accuracy', cv=cv, n_jobs=-1, verbose=3) # n_jobs=-1 usa todos os cores\n",
    "\n",
    "# Executa a busca\n",
    "grid_search.fit(X, y)\n",
    "\n",
    "# Resultados\n",
    "print(\"Melhores parâmetros encontrados:\")\n",
    "print(grid_search.best_params_)\n",
    "\n",
    "print(f\"Melhor acurácia: {grid_search.best_score_:.4f}\")\n",
    "\n",
    "# Para ver o desempenho do melhor modelo no dataset completo (ou em um set de teste)\n",
    "# best_model = grid_search.best_estimator_\n",
    "# y_pred = best_model.predict(X_test)\n",
    "# print(classification_report(y_test, y_pred))\n",
    "\n",
    "\n"
   ]
  },
  {
   "cell_type": "code",
   "execution_count": null,
   "id": "257e1cff",
   "metadata": {},
   "outputs": [],
   "source": []
  },
  {
   "cell_type": "code",
   "execution_count": null,
   "id": "bbf2c4e4",
   "metadata": {},
   "outputs": [],
   "source": []
  }
 ],
 "metadata": {
  "kernelspec": {
   "display_name": "Python 3",
   "language": "python",
   "name": "python3"
  },
  "language_info": {
   "codemirror_mode": {
    "name": "ipython",
    "version": 3
   },
   "file_extension": ".py",
   "mimetype": "text/x-python",
   "name": "python",
   "nbconvert_exporter": "python",
   "pygments_lexer": "ipython3",
   "version": "3.13.2"
  }
 },
 "nbformat": 4,
 "nbformat_minor": 5
}
